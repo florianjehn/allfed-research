{
 "cells": [
  {
   "cell_type": "markdown",
   "metadata": {},
   "source": [
    "### 1. Find the world population centers"
   ]
  },
  {
   "cell_type": "code",
   "execution_count": 5,
   "metadata": {},
   "outputs": [],
   "source": [
    "# (a) Resample/Aggregate population map to a resolution of ~10 km per raster cell.\n",
    "\n",
    "# 10 km. because we don't want regions which are too small in high\n",
    "# population density areas"
   ]
  },
  {
   "cell_type": "code",
   "execution_count": 3,
   "metadata": {},
   "outputs": [],
   "source": [
    "# (b) Extract all cells with a population above 1 Million\n",
    "# select cells with value > 1,000,000"
   ]
  },
  {
   "cell_type": "code",
   "execution_count": 4,
   "metadata": {},
   "outputs": [],
   "source": [
    "# (c)/(d) Convert raster to polygon"
   ]
  },
  {
   "cell_type": "code",
   "execution_count": 6,
   "metadata": {},
   "outputs": [],
   "source": [
    "# (e) Dissolve all polygons that are neighbouring each other\n",
    "# Results in contiguous polygons for each population centre"
   ]
  },
  {
   "cell_type": "markdown",
   "metadata": {},
   "source": [
    "### 2. Create zones with 1 million people each"
   ]
  },
  {
   "cell_type": "markdown",
   "metadata": {},
   "source": [
    "Assumes that world population centres have already been generated as per the methodology described above in (1)"
   ]
  },
  {
   "cell_type": "code",
   "execution_count": 8,
   "metadata": {},
   "outputs": [
    {
     "ename": "SyntaxError",
     "evalue": "unexpected EOF while parsing (<ipython-input-8-462de6c7a0c1>, line 28)",
     "output_type": "error",
     "traceback": [
      "\u001b[0;36m  File \u001b[0;32m\"<ipython-input-8-462de6c7a0c1>\"\u001b[0;36m, line \u001b[0;32m28\u001b[0m\n\u001b[0;31m    \u001b[0m\n\u001b[0m    ^\u001b[0m\n\u001b[0;31mSyntaxError\u001b[0m\u001b[0;31m:\u001b[0m unexpected EOF while parsing\n"
     ]
    }
   ],
   "source": [
    "# (a) Clip the outlines of the country out of the population raster\n",
    "# country boundaries: TBD\n",
    "\n",
    "import rasterio\n",
    "from rasterio.enums import Resampling\n",
    "\n",
    "from allfed_spatial.features.io import load_features\n",
    "\n",
    "\n",
    "# For population raster use UN WPP-Adjusted Population Count, v4.11 (2020)\n",
    "pop_raster_filepath = ''  #TODO set filepath\n",
    "\n",
    "# Open raster and resample if required using rasterio https://rasterio.readthedocs.io/en/stable/topics/resampling.html#\n",
    "with rasterio.open(pop_raster_filepath) as dataset:\n",
    "    data = dataset.read(\n",
    "        out_shape=(dataset.height * 2, dataset.width * 2, dataset.count), #TODO update resample parameters\n",
    "        resampling=Resampling.bilinear\n",
    "    )\n",
    "\n",
    "\n",
    "# For country boundaries, use Natural Earth data (https://www.naturalearthdata.com/downloads/10m-cultural-vectors/)\n",
    "country_boundary_filepath = ''  #TODO set filepath\n",
    "countries = load_features(country_boundary_path)\n",
    "\n",
    "for country in countries:\n",
    "    # clip outlines\n",
    "\n",
    "    "
   ]
  },
  {
   "cell_type": "code",
   "execution_count": null,
   "metadata": {},
   "outputs": [],
   "source": [
    "# (b) Convert each country's raster to polygons - \n",
    "# each pixel is (1x1 km. and has population count)"
   ]
  },
  {
   "cell_type": "code",
   "execution_count": null,
   "metadata": {},
   "outputs": [],
   "source": [
    "# (c) Erase the population centers from the population polygon, so they are not considered when we create the zones later."
   ]
  },
  {
   "cell_type": "code",
   "execution_count": null,
   "metadata": {},
   "outputs": [],
   "source": [
    "# (d) Now we get to the part where I am unsure on how to progress. \n",
    "# The easiest way would simply be to run build balanced zones on the country polygon.\n",
    "\n",
    "# NOTE: Delaunay triangulation parameter in ARCGIS creates long strips along coasts\n",
    "# Contiguity edges corners produces more evenly shaped zones."
   ]
  },
  {
   "cell_type": "code",
   "execution_count": null,
   "metadata": {},
   "outputs": [],
   "source": [
    "# (e) If we want to isolate the islands, we would need to include here \n",
    "# several steps to extract them from the polygons. Not sure if this is worth \n",
    "# the hassle. "
   ]
  },
  {
   "cell_type": "code",
   "execution_count": null,
   "metadata": {},
   "outputs": [],
   "source": [
    "# (f) Next step after creating this for one country, would be to do it for \n",
    "# the whole world. Possible routes:"
   ]
  }
 ],
 "metadata": {
  "kernelspec": {
   "display_name": "Python 3",
   "language": "python",
   "name": "python3"
  },
  "language_info": {
   "codemirror_mode": {
    "name": "ipython",
    "version": 3
   },
   "file_extension": ".py",
   "mimetype": "text/x-python",
   "name": "python",
   "nbconvert_exporter": "python",
   "pygments_lexer": "ipython3",
   "version": "3.7.4"
  }
 },
 "nbformat": 4,
 "nbformat_minor": 4
}
